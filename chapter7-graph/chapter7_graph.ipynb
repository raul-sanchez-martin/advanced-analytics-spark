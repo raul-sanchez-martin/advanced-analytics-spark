{
 "cells": [
  {
   "cell_type": "markdown",
   "metadata": {},
   "source": [
    "# Chapter 7: Analyzing Co-Ocurrence Networks with GraphX"
   ]
  },
  {
   "cell_type": "code",
   "execution_count": 1,
   "metadata": {},
   "outputs": [
    {
     "data": {
      "text/plain": [
       "import org.apache.hadoop.io.{Text=>TextHadoop}\n"
      ]
     },
     "metadata": {},
     "output_type": "display_data"
    }
   ],
   "source": [
    "import edu.umd.cloud9.collection.XMLInputFormat\n",
    "\n",
    "import java.nio.charset.StandardCharsets\n",
    "import java.security.MessageDigest\n",
    "\n",
    "import org.apache.hadoop.io.LongWritable\n",
    "import org.apache.hadoop.io.{Text => TextHadoop}\n",
    "import org.apache.hadoop.conf.Configuration\n",
    "\n",
    "import org.apache.spark.graphx._\n",
    "import org.apache.spark.rdd.RDD\n",
    "import org.apache.spark.sql.{Dataset, SparkSession, Row}\n",
    "import org.apache.spark.sql.functions._\n",
    "\n",
    "import scala.xml._"
   ]
  },
  {
   "cell_type": "code",
   "execution_count": 2,
   "metadata": {},
   "outputs": [
    {
     "data": {
      "text/plain": [
       "import org.apache.spark.sql.{functions=>F}\n"
      ]
     },
     "metadata": {},
     "output_type": "display_data"
    }
   ],
   "source": [
    "import org.apache.spark.sql.{functions => F}"
   ]
  },
  {
   "cell_type": "markdown",
   "metadata": {},
   "source": [
    "## Getting the Data"
   ]
  },
  {
   "cell_type": "code",
   "execution_count": 3,
   "metadata": {},
   "outputs": [
    {
     "data": {
      "text/plain": [
       "loadMedline: (spark: org.apache.spark.sql.SparkSession, path: String)org.apache.spark.sql.Dataset[String]\n"
      ]
     },
     "metadata": {},
     "output_type": "display_data"
    }
   ],
   "source": [
    "def loadMedline(spark: SparkSession, path: String): Dataset[String] = {\n",
    "    import spark.implicits._\n",
    "    val conf = new Configuration()\n",
    "    conf.set(XMLInputFormat.START_TAG_KEY, \"<MedlineCitation \")\n",
    "    conf.set(XMLInputFormat.END_TAG_KEY, \"</MedlineCitation>\")\n",
    "    val sc = spark.sparkContext\n",
    "    val in = sc.newAPIHadoopFile(path, classOf[XMLInputFormat],\n",
    "      classOf[LongWritable], classOf[TextHadoop], conf)\n",
    "    in.map(line => line._2.toString).toDS()\n",
    "}"
   ]
  },
  {
   "cell_type": "code",
   "execution_count": 4,
   "metadata": {},
   "outputs": [
    {
     "data": {
      "text/plain": [
       "majorTopics: (record: String)Seq[String]\n"
      ]
     },
     "metadata": {},
     "output_type": "display_data"
    }
   ],
   "source": [
    "def majorTopics(record: String): Seq[String] = {\n",
    "    val elem = XML.loadString(record)\n",
    "    val dn = elem \\\\ \"DescriptorName\"\n",
    "    val mt = dn.filter(n => (n \\ \"@MajorTopicYN\").text == \"Y\")\n",
    "    mt.map(n => n.text)\n",
    "}"
   ]
  },
  {
   "cell_type": "code",
   "execution_count": 5,
   "metadata": {},
   "outputs": [
    {
     "data": {
      "text/plain": [
       "medlineRaw = [value: string]\n"
      ]
     },
     "metadata": {},
     "output_type": "display_data"
    },
    {
     "data": {
      "text/plain": [
       "[value: string]"
      ]
     },
     "execution_count": 5,
     "metadata": {},
     "output_type": "execute_result"
    }
   ],
   "source": [
    "val medlineRaw: Dataset[String] = loadMedline(spark, \"../data/medline\")"
   ]
  },
  {
   "cell_type": "code",
   "execution_count": 6,
   "metadata": {},
   "outputs": [
    {
     "data": {
      "text/plain": [
       "medline = [value: array<string>]\n"
      ]
     },
     "metadata": {},
     "output_type": "display_data"
    },
    {
     "data": {
      "text/plain": [
       "[value: array<string>]"
      ]
     },
     "execution_count": 6,
     "metadata": {},
     "output_type": "execute_result"
    }
   ],
   "source": [
    "val medline: Dataset[Seq[String]] = medlineRaw.map(majorTopics).sample(0.01).cache()"
   ]
  },
  {
   "cell_type": "code",
   "execution_count": 7,
   "metadata": {},
   "outputs": [
    {
     "data": {
      "text/plain": [
       "2376"
      ]
     },
     "execution_count": 7,
     "metadata": {},
     "output_type": "execute_result"
    }
   ],
   "source": [
    "medline.count()"
   ]
  },
  {
   "cell_type": "code",
   "execution_count": 8,
   "metadata": {},
   "outputs": [
    {
     "data": {
      "text/plain": [
       "[List(Drosophila Proteins, Interleukin-6, Nerve Growth Factors), List(Attitude of Health Personnel, Interprofessional Relations, Nursing Homes, Prejudice, Social Distance), List(Child, Hospitalized, Disabled Persons)]"
      ]
     },
     "execution_count": 8,
     "metadata": {},
     "output_type": "execute_result"
    }
   ],
   "source": [
    "medline.take(3)"
   ]
  },
  {
   "cell_type": "markdown",
   "metadata": {},
   "source": [
    "## Analyzing the MeSH Major Topics and Their Co-Ocurrences"
   ]
  },
  {
   "cell_type": "code",
   "execution_count": 20,
   "metadata": {},
   "outputs": [
    {
     "data": {
      "text/plain": [
       "topics = [topic: string]\n"
      ]
     },
     "metadata": {},
     "output_type": "display_data"
    },
    {
     "data": {
      "text/plain": [
       "[topic: string]"
      ]
     },
     "execution_count": 20,
     "metadata": {},
     "output_type": "execute_result"
    }
   ],
   "source": [
    "val topics = medline.flatMap(mesh => mesh).toDF(\"topic\")"
   ]
  },
  {
   "cell_type": "code",
   "execution_count": 21,
   "metadata": {},
   "outputs": [
    {
     "data": {
      "text/plain": [
       "topicDist = [topic: string, cnt: bigint]\n"
      ]
     },
     "metadata": {},
     "output_type": "display_data"
    },
    {
     "data": {
      "text/plain": [
       "[topic: string, cnt: bigint]"
      ]
     },
     "execution_count": 21,
     "metadata": {},
     "output_type": "execute_result"
    }
   ],
   "source": [
    "val topicDist = topics.groupBy(\"topic\").count().sort(F.col(\"count\").desc).\n",
    "withColumnRenamed(\"count\", \"cnt\")"
   ]
  },
  {
   "cell_type": "code",
   "execution_count": 22,
   "metadata": {},
   "outputs": [
    {
     "name": "stdout",
     "output_type": "stream",
     "text": [
      "+--------------------+---+\n",
      "|               topic|cnt|\n",
      "+--------------------+---+\n",
      "|            Research| 15|\n",
      "|        Tuberculosis| 13|\n",
      "|           Hospitals| 11|\n",
      "| Population Dynamics| 11|\n",
      "|       Public Policy| 11|\n",
      "|             Disease| 10|\n",
      "|          Physicians| 10|\n",
      "|Emigration and Im...|  9|\n",
      "|       Ethnic Groups|  9|\n",
      "|               Blood|  9|\n",
      "|   Abortion, Induced|  9|\n",
      "|Social Control, F...|  8|\n",
      "| Wounds and Injuries|  8|\n",
      "|           Neoplasms|  8|\n",
      "|            Politics|  7|\n",
      "|Government Regula...|  7|\n",
      "| Models, Theoretical|  7|\n",
      "|       Jurisprudence|  7|\n",
      "|Tomography, X-Ray...|  7|\n",
      "|          Anesthesia|  7|\n",
      "+--------------------+---+\n",
      "only showing top 20 rows\n",
      "\n"
     ]
    }
   ],
   "source": [
    "topicDist.show()"
   ]
  },
  {
   "cell_type": "code",
   "execution_count": 11,
   "metadata": {},
   "outputs": [
    {
     "name": "stdout",
     "output_type": "stream",
     "text": [
      "+---+----+\n",
      "|cnt|dist|\n",
      "+---+----+\n",
      "|  1|1381|\n",
      "|  2| 296|\n",
      "|  3| 104|\n",
      "|  4|  36|\n",
      "|  5|  18|\n",
      "|  6|   8|\n",
      "|  7|   7|\n",
      "|  9|   4|\n",
      "| 11|   3|\n",
      "|  8|   3|\n",
      "| 10|   2|\n",
      "| 13|   1|\n",
      "| 15|   1|\n",
      "+---+----+\n",
      "\n"
     ]
    }
   ],
   "source": [
    "topicDist.groupBy(\"cnt\").count().withColumnRenamed(\"count\", \"dist\").sort(F.col(\"dist\").desc).show()"
   ]
  },
  {
   "cell_type": "code",
   "execution_count": 12,
   "metadata": {},
   "outputs": [
    {
     "name": "stdout",
     "output_type": "stream",
     "text": [
      "List(1, 2)\n",
      "List(1, 3)\n",
      "List(2, 3)\n"
     ]
    },
    {
     "data": {
      "text/plain": [
       "list = List(1, 2, 3)\n",
       "combs = empty iterator\n"
      ]
     },
     "metadata": {},
     "output_type": "display_data"
    },
    {
     "data": {
      "text/plain": [
       "empty iterator"
      ]
     },
     "execution_count": 12,
     "metadata": {},
     "output_type": "execute_result"
    }
   ],
   "source": [
    "val list = List(1,2,3)\n",
    "val combs = list.combinations(2)\n",
    "combs.foreach(println)"
   ]
  },
  {
   "cell_type": "code",
   "execution_count": 13,
   "metadata": {},
   "outputs": [
    {
     "data": {
      "text/plain": [
       "topicsPair = [pairs: array<string>]\n"
      ]
     },
     "metadata": {},
     "output_type": "display_data"
    },
    {
     "data": {
      "text/plain": [
       "[pairs: array<string>]"
      ]
     },
     "execution_count": 13,
     "metadata": {},
     "output_type": "execute_result"
    }
   ],
   "source": [
    "val topicsPair = medline.flatMap(t => {t.sorted.combinations((2))}).toDF(\"pairs\")"
   ]
  },
  {
   "cell_type": "code",
   "execution_count": 14,
   "metadata": {},
   "outputs": [
    {
     "name": "stdout",
     "output_type": "stream",
     "text": [
      "+-----------------------------------------------------------+\n",
      "|pairs                                                      |\n",
      "+-----------------------------------------------------------+\n",
      "|[Drosophila Proteins, Interleukin-6]                       |\n",
      "|[Drosophila Proteins, Nerve Growth Factors]                |\n",
      "|[Interleukin-6, Nerve Growth Factors]                      |\n",
      "|[Attitude of Health Personnel, Interprofessional Relations]|\n",
      "|[Attitude of Health Personnel, Nursing Homes]              |\n",
      "|[Attitude of Health Personnel, Prejudice]                  |\n",
      "|[Attitude of Health Personnel, Social Distance]            |\n",
      "|[Interprofessional Relations, Nursing Homes]               |\n",
      "|[Interprofessional Relations, Prejudice]                   |\n",
      "|[Interprofessional Relations, Social Distance]             |\n",
      "|[Nursing Homes, Prejudice]                                 |\n",
      "|[Nursing Homes, Social Distance]                           |\n",
      "|[Prejudice, Social Distance]                               |\n",
      "|[Child, Hospitalized, Disabled Persons]                    |\n",
      "|[Research, Research Support as Topic]                      |\n",
      "|[Glucuronidase, Protein Processing, Post-Translational]    |\n",
      "|[DNA-Binding Proteins, MAP Kinase Kinase Kinase 1]         |\n",
      "|[DNA-Binding Proteins, Protein-Serine-Threonine Kinases]   |\n",
      "|[DNA-Binding Proteins, Repressor Proteins]                 |\n",
      "|[DNA-Binding Proteins, Transcription Factors]              |\n",
      "+-----------------------------------------------------------+\n",
      "only showing top 20 rows\n",
      "\n"
     ]
    }
   ],
   "source": [
    "topicsPair.show(truncate=false)"
   ]
  },
  {
   "cell_type": "code",
   "execution_count": 15,
   "metadata": {},
   "outputs": [
    {
     "data": {
      "text/plain": [
       "cooccurs = [pairs: array<string>, cnt: bigint]\n"
      ]
     },
     "metadata": {},
     "output_type": "display_data"
    },
    {
     "data": {
      "text/plain": [
       "[pairs: array<string>, cnt: bigint]"
      ]
     },
     "execution_count": 15,
     "metadata": {},
     "output_type": "execute_result"
    }
   ],
   "source": [
    "val cooccurs = topicsPair.groupBy(\"pairs\").count().withColumnRenamed(\"count\", \"cnt\").cache()"
   ]
  },
  {
   "cell_type": "code",
   "execution_count": 16,
   "metadata": {},
   "outputs": [
    {
     "data": {
      "text/plain": [
       "3536"
      ]
     },
     "execution_count": 16,
     "metadata": {},
     "output_type": "execute_result"
    }
   ],
   "source": [
    "cooccurs.count()"
   ]
  },
  {
   "cell_type": "code",
   "execution_count": 17,
   "metadata": {},
   "outputs": [
    {
     "name": "stdout",
     "output_type": "stream",
     "text": [
      "+-----------------------------------------------------+---+\n",
      "|pairs                                                |cnt|\n",
      "+-----------------------------------------------------+---+\n",
      "|[Government Regulation, Social Control, Formal]      |7  |\n",
      "|[Emigration and Immigration, Population Dynamics]    |5  |\n",
      "|[Niacin, Tuberculosis]                               |5  |\n",
      "|[Emigration and Immigration, Transients and Migrants]|4  |\n",
      "|[Population Dynamics, Urban Population]              |4  |\n",
      "|[Demography, Population Dynamics]                    |4  |\n",
      "|[Emigration and Immigration, Public Policy]          |4  |\n",
      "|[Public Policy, Transients and Migrants]             |3  |\n",
      "|[Anesthesia, Anesthesiology]                         |3  |\n",
      "|[Demography, Population Characteristics]             |3  |\n",
      "+-----------------------------------------------------+---+\n",
      "only showing top 10 rows\n",
      "\n"
     ]
    }
   ],
   "source": [
    "cooccurs.select(\"pairs\", \"cnt\").sort(F.col(\"cnt\").desc).show(10, truncate=false)"
   ]
  },
  {
   "cell_type": "markdown",
   "metadata": {},
   "source": [
    "## Constructing a Co-Occurrence Network with GraphX"
   ]
  },
  {
   "cell_type": "code",
   "execution_count": 18,
   "metadata": {},
   "outputs": [
    {
     "data": {
      "text/plain": [
       "hashId: (str: String)Long\n"
      ]
     },
     "metadata": {},
     "output_type": "display_data"
    }
   ],
   "source": [
    "def hashId(str: String): Long = {\n",
    "    // This is effectively the same implementation as in Guava's Hashing, but 'inlined'\n",
    "    // to avoid a dependency on Guava just for this. It creates a long from the first 8 bytes\n",
    "    // of the (16 byte) MD5 hash, with first byte as least-significant byte in the long.\n",
    "    val bytes = MessageDigest.getInstance(\"MD5\").digest(str.getBytes(StandardCharsets.UTF_8))\n",
    "    (bytes(0) & 0xFFL) |\n",
    "    ((bytes(1) & 0xFFL) << 8) |\n",
    "    ((bytes(2) & 0xFFL) << 16) |\n",
    "    ((bytes(3) & 0xFFL) << 24) |\n",
    "    ((bytes(4) & 0xFFL) << 32) |\n",
    "    ((bytes(5) & 0xFFL) << 40) |\n",
    "    ((bytes(6) & 0xFFL) << 48) |\n",
    "    ((bytes(7) & 0xFFL) << 56)\n",
    "}"
   ]
  },
  {
   "cell_type": "code",
   "execution_count": 25,
   "metadata": {},
   "outputs": [
    {
     "data": {
      "text/plain": [
       "vertices = [hash: bigint, topic: string]\n"
      ]
     },
     "metadata": {},
     "output_type": "display_data"
    },
    {
     "data": {
      "text/plain": [
       "[hash: bigint, topic: string]"
      ]
     },
     "execution_count": 25,
     "metadata": {},
     "output_type": "execute_result"
    }
   ],
   "source": [
    "val vertices = topics.map{case(Row(topic: String)) => (hashId(topic), topic)}.toDF(\"hash\", \"topic\")"
   ]
  },
  {
   "cell_type": "code",
   "execution_count": 26,
   "metadata": {},
   "outputs": [
    {
     "name": "stdout",
     "output_type": "stream",
     "text": [
      "+--------------------+----------------------------+\n",
      "|hash                |topic                       |\n",
      "+--------------------+----------------------------+\n",
      "|6881210680665544257 |Drosophila Proteins         |\n",
      "|-7785719421263410589|Interleukin-6               |\n",
      "|5704854033070027507 |Nerve Growth Factors        |\n",
      "|6427933560761129515 |Attitude of Health Personnel|\n",
      "|-4689715188779541896|Interprofessional Relations |\n",
      "|2257255427537747493 |Nursing Homes               |\n",
      "|-1412680106657823228|Prejudice                   |\n",
      "|2634198788896344991 |Social Distance             |\n",
      "|-8347274417141191070|Child, Hospitalized         |\n",
      "|-7910652893888327622|Disabled Persons            |\n",
      "+--------------------+----------------------------+\n",
      "only showing top 10 rows\n",
      "\n"
     ]
    }
   ],
   "source": [
    "vertices.show(10, truncate=false)"
   ]
  },
  {
   "cell_type": "code",
   "execution_count": 27,
   "metadata": {},
   "outputs": [
    {
     "data": {
      "text/plain": [
       "2757"
      ]
     },
     "execution_count": 27,
     "metadata": {},
     "output_type": "execute_result"
    }
   ],
   "source": [
    "vertices.count()"
   ]
  },
  {
   "cell_type": "code",
   "execution_count": 28,
   "metadata": {},
   "outputs": [
    {
     "data": {
      "text/plain": [
       "uniqueHashes = Array([1864])\n"
      ]
     },
     "metadata": {},
     "output_type": "display_data"
    },
    {
     "data": {
      "text/html": [
       "<table>\n",
       "<tr><td>1864</td></tr>\n",
       "</table>"
      ],
      "text/plain": [
       "+------+\n",
       "| 1864 |\n",
       "+------+"
      ]
     },
     "execution_count": 28,
     "metadata": {},
     "output_type": "execute_result"
    }
   ],
   "source": [
    "val uniqueHashes = vertices.agg(countDistinct(\"hash\")).take(1)"
   ]
  },
  {
   "cell_type": "code",
   "execution_count": 29,
   "metadata": {},
   "outputs": [
    {
     "data": {
      "text/html": [
       "<table>\n",
       "<tr><td>1864</td></tr>\n",
       "</table>"
      ],
      "text/plain": [
       "+------+\n",
       "| 1864 |\n",
       "+------+"
      ]
     },
     "execution_count": 29,
     "metadata": {},
     "output_type": "execute_result"
    }
   ],
   "source": [
    "vertices.agg(countDistinct(\"topic\")).take(1)"
   ]
  },
  {
   "cell_type": "code",
   "execution_count": 31,
   "metadata": {},
   "outputs": [
    {
     "name": "stdout",
     "output_type": "stream",
     "text": [
      "+--------------------+---+\n",
      "|               pairs|cnt|\n",
      "+--------------------+---+\n",
      "|[Government Regul...|  7|\n",
      "|[Emigration and I...|  5|\n",
      "|[Niacin, Tubercul...|  5|\n",
      "|[Emigration and I...|  4|\n",
      "|[Population Dynam...|  4|\n",
      "|[Demography, Popu...|  4|\n",
      "|[Emigration and I...|  4|\n",
      "|[Ethnic Groups, P...|  3|\n",
      "|[Castration, Orch...|  3|\n",
      "|[Ethnic Groups, P...|  3|\n",
      "|[Population Growt...|  3|\n",
      "|[Population Dynam...|  3|\n",
      "|[Economics, Socio...|  3|\n",
      "| [Isoniazid, Niacin]|  3|\n",
      "|[Isoniazid, Tuber...|  3|\n",
      "|[Emigration and I...|  3|\n",
      "|[Abortion, Induce...|  3|\n",
      "|[Physiology, Rese...|  3|\n",
      "|[Demography, Urba...|  3|\n",
      "|[Public Policy, T...|  3|\n",
      "+--------------------+---+\n",
      "only showing top 20 rows\n",
      "\n"
     ]
    }
   ],
   "source": [
    "cooccurs.sort(F.col(\"cnt\").desc).show()"
   ]
  },
  {
   "cell_type": "code",
   "execution_count": 32,
   "metadata": {},
   "outputs": [
    {
     "data": {
      "text/plain": [
       "edges = [srcId: bigint, dstId: bigint ... 1 more field]\n"
      ]
     },
     "metadata": {},
     "output_type": "display_data"
    },
    {
     "data": {
      "text/plain": [
       "[srcId: bigint, dstId: bigint ... 1 more field]"
      ]
     },
     "execution_count": 32,
     "metadata": {},
     "output_type": "execute_result"
    }
   ],
   "source": [
    "val edges = cooccurs.map{case(Row(topics: Seq[_], cnt:Long)) =>\n",
    "    val ids = topics.map(_.toString).map(hashId).sorted\n",
    "    Edge(ids(0), ids(1), cnt)\n",
    "}"
   ]
  },
  {
   "cell_type": "code",
   "execution_count": 36,
   "metadata": {},
   "outputs": [
    {
     "data": {
      "text/plain": [
       "vertexRDD = MapPartitionsRDD[179] at map at <console>:61\n"
      ]
     },
     "metadata": {},
     "output_type": "display_data"
    },
    {
     "data": {
      "text/plain": [
       "MapPartitionsRDD[179] at map at <console>:61"
      ]
     },
     "execution_count": 36,
     "metadata": {},
     "output_type": "execute_result"
    }
   ],
   "source": [
    "val vertexRDD = vertices.rdd.map{\n",
    "    case(Row(hash: Long, topic:String)) => (hash, topic)\n",
    "}"
   ]
  },
  {
   "cell_type": "code",
   "execution_count": 37,
   "metadata": {},
   "outputs": [
    {
     "data": {
      "text/plain": [
       "topicGraph = org.apache.spark.graphx.impl.GraphImpl@292d1402\n"
      ]
     },
     "metadata": {},
     "output_type": "display_data"
    },
    {
     "data": {
      "text/plain": [
       "org.apache.spark.graphx.impl.GraphImpl@292d1402"
      ]
     },
     "execution_count": 37,
     "metadata": {},
     "output_type": "execute_result"
    }
   ],
   "source": [
    "val topicGraph = Graph(vertexRDD, edges.rdd)\n",
    "topicGraph.cache()"
   ]
  },
  {
   "cell_type": "code",
   "execution_count": 38,
   "metadata": {},
   "outputs": [
    {
     "data": {
      "text/plain": [
       "2757"
      ]
     },
     "execution_count": 38,
     "metadata": {},
     "output_type": "execute_result"
    }
   ],
   "source": [
    "vertexRDD.count()"
   ]
  },
  {
   "cell_type": "code",
   "execution_count": 39,
   "metadata": {},
   "outputs": [
    {
     "data": {
      "text/plain": [
       "1864"
      ]
     },
     "execution_count": 39,
     "metadata": {},
     "output_type": "execute_result"
    }
   ],
   "source": [
    "topicGraph.vertices.count()"
   ]
  },
  {
   "cell_type": "markdown",
   "metadata": {},
   "source": [
    "## Understanding the Structure of the Network\n",
    "\n",
    "### Conected Components"
   ]
  },
  {
   "cell_type": "code",
   "execution_count": 40,
   "metadata": {},
   "outputs": [
    {
     "data": {
      "text/plain": [
       "connectedComponentGraph = org.apache.spark.graphx.impl.GraphImpl@27857716\n"
      ]
     },
     "metadata": {},
     "output_type": "display_data"
    },
    {
     "data": {
      "text/plain": [
       "org.apache.spark.graphx.impl.GraphImpl@27857716"
      ]
     },
     "execution_count": 40,
     "metadata": {},
     "output_type": "execute_result"
    }
   ],
   "source": [
    "val connectedComponentGraph = topicGraph.connectedComponents()"
   ]
  },
  {
   "cell_type": "code",
   "execution_count": 41,
   "metadata": {},
   "outputs": [
    {
     "data": {
      "text/plain": [
       "componentDF = [vid: bigint, cid: bigint]\n",
       "componentCounts = [cid: bigint, count: bigint]\n"
      ]
     },
     "metadata": {},
     "output_type": "display_data"
    },
    {
     "data": {
      "text/plain": [
       "485"
      ]
     },
     "execution_count": 41,
     "metadata": {},
     "output_type": "execute_result"
    }
   ],
   "source": [
    "val componentDF = connectedComponentGraph.vertices.toDF(\"vid\", \"cid\")\n",
    "val componentCounts = componentDF.groupBy(\"cid\").count()\n",
    "componentCounts.count()"
   ]
  },
  {
   "cell_type": "code",
   "execution_count": 42,
   "metadata": {},
   "outputs": [
    {
     "name": "stdout",
     "output_type": "stream",
     "text": [
      "+--------------------+-----+\n",
      "|                 cid|count|\n",
      "+--------------------+-----+\n",
      "|-9215470674759766104|  967|\n",
      "|-7715393728639818274|   12|\n",
      "|-7766162447367385796|   10|\n",
      "|-6380589216187441282|   10|\n",
      "|-8060929734674540133|    9|\n",
      "|-8413990221343043350|    8|\n",
      "|-7837548223451515988|    8|\n",
      "|-5203417666596895117|    7|\n",
      "|-6781964506890345472|    7|\n",
      "|-5907308932485011342|    7|\n",
      "|-3843194863954452561|    7|\n",
      "|-3680134813602427771|    6|\n",
      "|-7919268455626835567|    6|\n",
      "|-6195495891807228194|    6|\n",
      "|-6827738450567291831|    6|\n",
      "|-9031507740888942675|    6|\n",
      "|-4011363123023043990|    6|\n",
      "|-8632193869969830941|    5|\n",
      "|-2198264851255507998|    5|\n",
      "|-5758547386235439761|    5|\n",
      "+--------------------+-----+\n",
      "only showing top 20 rows\n",
      "\n"
     ]
    }
   ],
   "source": [
    "componentCounts.orderBy(F.desc(\"count\")).show()"
   ]
  },
  {
   "cell_type": "code",
   "execution_count": 43,
   "metadata": {},
   "outputs": [
    {
     "data": {
      "text/plain": [
       "topicComponentDF = [topic: string, cid: bigint]\n"
      ]
     },
     "metadata": {},
     "output_type": "display_data"
    },
    {
     "data": {
      "text/plain": [
       "[topic: string, cid: bigint]"
      ]
     },
     "execution_count": 43,
     "metadata": {},
     "output_type": "execute_result"
    }
   ],
   "source": [
    "val topicComponentDF = topicGraph.vertices.innerJoin(\n",
    "      connectedComponentGraph.vertices) {\n",
    "      (topicId, name, componentId) => (name, componentId.toLong)\n",
    "}.values.toDF(\"topic\", \"cid\")"
   ]
  },
  {
   "cell_type": "code",
   "execution_count": 44,
   "metadata": {},
   "outputs": [
    {
     "name": "stdout",
     "output_type": "stream",
     "text": [
      "+--------------------+--------------------+\n",
      "|               topic|                 cid|\n",
      "+--------------------+--------------------+\n",
      "|      Desert Climate|-9215470674759766104|\n",
      "|          Phosphates|-8538331842254293523|\n",
      "|  Fluorides, Topical|-4044118614182780436|\n",
      "|         Archaeology|-9215470674759766104|\n",
      "|Cardiovascular Ab...|-9215470674759766104|\n",
      "|          Flavonoids| 4288808014668014282|\n",
      "|             Protons|-7517960540023488744|\n",
      "|   Social Adjustment|-9215470674759766104|\n",
      "|    Disabled Persons|-8347274417141191070|\n",
      "| Clinical Competence|-7919268455626835567|\n",
      "|Water-Electrolyte...|-9215470674759766104|\n",
      "|        Ear Diseases|-9215470674759766104|\n",
      "|            Cicatrix|-6195495891807228194|\n",
      "|      Bone and Bones|-9215470674759766104|\n",
      "|    Coronary Disease|-1709118461927036481|\n",
      "|Cerebrovascular D...|-9215470674759766104|\n",
      "|      Blast Injuries|-9215470674759766104|\n",
      "|Syphilis Serodiag...|-2518328612260514536|\n",
      "|            Violence|-5539826757456174267|\n",
      "|      Adenocarcinoma|  -82655956695243779|\n",
      "+--------------------+--------------------+\n",
      "only showing top 20 rows\n",
      "\n"
     ]
    }
   ],
   "source": [
    "topicComponentDF.show()"
   ]
  },
  {
   "cell_type": "code",
   "execution_count": 45,
   "metadata": {},
   "outputs": [
    {
     "name": "stdout",
     "output_type": "stream",
     "text": [
      "+--------------------+--------------------+\n",
      "|               topic|                 cid|\n",
      "+--------------------+--------------------+\n",
      "|      Desert Climate|-9215470674759766104|\n",
      "|         Archaeology|-9215470674759766104|\n",
      "|Cardiovascular Ab...|-9215470674759766104|\n",
      "|   Social Adjustment|-9215470674759766104|\n",
      "|Water-Electrolyte...|-9215470674759766104|\n",
      "|        Ear Diseases|-9215470674759766104|\n",
      "|      Bone and Bones|-9215470674759766104|\n",
      "|Cerebrovascular D...|-9215470674759766104|\n",
      "|      Blast Injuries|-9215470674759766104|\n",
      "|               Aging|-9215470674759766104|\n",
      "|       Prescriptions|-9215470674759766104|\n",
      "|Population Charac...|-9215470674759766104|\n",
      "|Cell Physiologica...|-9215470674759766104|\n",
      "|               Cebus|-9215470674759766104|\n",
      "|                Soil|-9215470674759766104|\n",
      "|         Emergencies|-9215470674759766104|\n",
      "|                Beds|-9215470674759766104|\n",
      "|  Psychopharmacology|-9215470674759766104|\n",
      "|Cross-Cultural Co...|-9215470674759766104|\n",
      "|          Urethritis|-9215470674759766104|\n",
      "+--------------------+--------------------+\n",
      "only showing top 20 rows\n",
      "\n"
     ]
    }
   ],
   "source": [
    "topicComponentDF.where(F.col(\"cid\")===\"-9215470674759766104\").show()"
   ]
  },
  {
   "cell_type": "code",
   "execution_count": 52,
   "metadata": {},
   "outputs": [
    {
     "data": {
      "text/plain": [
       "lastException: Throwable = null\n",
       "warning: there was one deprecation warning; re-run with -deprecation for details\n"
      ]
     },
     "metadata": {},
     "output_type": "display_data"
    }
   ],
   "source": [
    "topicDist.registerTempTable(\"topic_dist\")"
   ]
  },
  {
   "cell_type": "code",
   "execution_count": 53,
   "metadata": {},
   "outputs": [
    {
     "name": "stdout",
     "output_type": "stream",
     "text": [
      "+-----+---+\n",
      "|topic|cnt|\n",
      "+-----+---+\n",
      "+-----+---+\n",
      "\n"
     ]
    },
    {
     "data": {
      "text/plain": [
       "campy = [topic: string, cnt: bigint]\n"
      ]
     },
     "metadata": {},
     "output_type": "display_data"
    },
    {
     "data": {
      "text/plain": [
       "[topic: string, cnt: bigint]"
      ]
     },
     "execution_count": 53,
     "metadata": {},
     "output_type": "execute_result"
    }
   ],
   "source": [
    "val campy = spark.sql(\"SELECT * FROM topic_dist WHERE topic LIKE '%ampylobacter%'\")\n",
    "campy.show()"
   ]
  },
  {
   "cell_type": "markdown",
   "metadata": {},
   "source": [
    "## Degree Distribution"
   ]
  },
  {
   "cell_type": "code",
   "execution_count": 54,
   "metadata": {},
   "outputs": [
    {
     "data": {
      "text/plain": [
       "degrees = VertexRDDImpl[480] at RDD at VertexRDD.scala:57\n"
      ]
     },
     "metadata": {},
     "output_type": "display_data"
    },
    {
     "data": {
      "text/plain": [
       "VertexRDDImpl[480] at RDD at VertexRDD.scala:57"
      ]
     },
     "execution_count": 54,
     "metadata": {},
     "output_type": "execute_result"
    }
   ],
   "source": [
    "val degrees = topicGraph.degrees.cache()"
   ]
  },
  {
   "cell_type": "code",
   "execution_count": 56,
   "metadata": {},
   "outputs": [
    {
     "data": {
      "text/plain": [
       "[(7510548076323648462,4)]"
      ]
     },
     "execution_count": 56,
     "metadata": {},
     "output_type": "execute_result"
    }
   ],
   "source": [
    "degrees.take(1)"
   ]
  },
  {
   "cell_type": "code",
   "execution_count": 57,
   "metadata": {},
   "outputs": [
    {
     "data": {
      "text/plain": [
       "(count: 1598, mean: 4.425532, stdev: 5.031853, max: 57.000000, min: 1.000000)"
      ]
     },
     "execution_count": 57,
     "metadata": {},
     "output_type": "execute_result"
    }
   ],
   "source": [
    "degrees.map(_._2).stats()"
   ]
  },
  {
   "cell_type": "code",
   "execution_count": 60,
   "metadata": {},
   "outputs": [
    {
     "data": {
      "text/plain": [
       "sign = [value: array<string>]\n"
      ]
     },
     "metadata": {},
     "output_type": "display_data"
    },
    {
     "data": {
      "text/plain": [
       "476"
      ]
     },
     "execution_count": 60,
     "metadata": {},
     "output_type": "execute_result"
    }
   ],
   "source": [
    "val sign = medline.filter(x => x.size == 1)\n",
    "sign.count()"
   ]
  },
  {
   "cell_type": "code",
   "execution_count": 61,
   "metadata": {},
   "outputs": [
    {
     "data": {
      "text/plain": [
       "singTopic = [value: string]\n"
      ]
     },
     "metadata": {},
     "output_type": "display_data"
    },
    {
     "data": {
      "text/plain": [
       "434"
      ]
     },
     "execution_count": 61,
     "metadata": {},
     "output_type": "execute_result"
    }
   ],
   "source": [
    "val singTopic = sign.flatMap(topic => topic).distinct()\n",
    "singTopic.count()"
   ]
  },
  {
   "cell_type": "code",
   "execution_count": 62,
   "metadata": {},
   "outputs": [
    {
     "data": {
      "text/plain": [
       "topic2 = [value: string]\n"
      ]
     },
     "metadata": {},
     "output_type": "display_data"
    },
    {
     "data": {
      "text/plain": [
       "266"
      ]
     },
     "execution_count": 62,
     "metadata": {},
     "output_type": "execute_result"
    }
   ],
   "source": [
    "val topic2 = topicsPair.flatMap(_.getAs[Seq[String]](0))\n",
    "singTopic.except(topic2).count()"
   ]
  },
  {
   "cell_type": "code",
   "execution_count": 71,
   "metadata": {},
   "outputs": [
    {
     "data": {
      "text/plain": [
       "namesAndDegrees = [topic: string, degree: int]\n"
      ]
     },
     "metadata": {},
     "output_type": "display_data"
    },
    {
     "data": {
      "text/plain": [
       "[topic: string, degree: int]"
      ]
     },
     "execution_count": 71,
     "metadata": {},
     "output_type": "execute_result"
    }
   ],
   "source": [
    "val namesAndDegrees = degrees.innerJoin(topicGraph.vertices){\n",
    "    (topicId, degree, name) => (name, degree.toInt)\n",
    "}.values.toDF(\"topic\", \"degree\")"
   ]
  },
  {
   "cell_type": "code",
   "execution_count": 72,
   "metadata": {},
   "outputs": [
    {
     "name": "stdout",
     "output_type": "stream",
     "text": [
      "+--------------------+------+\n",
      "|               topic|degree|\n",
      "+--------------------+------+\n",
      "|            Research|    57|\n",
      "|             Disease|    45|\n",
      "|       Ethnic Groups|    44|\n",
      "|       Public Policy|    39|\n",
      "|Social Control, F...|    39|\n",
      "|Socioeconomic Fac...|    38|\n",
      "|Government Regula...|    37|\n",
      "|           Economics|    36|\n",
      "|Population Charac...|    34|\n",
      "| Population Dynamics|    34|\n",
      "|   Abortion, Induced|    34|\n",
      "|          Physiology|    32|\n",
      "|       Jurisprudence|    30|\n",
      "|        Tuberculosis|    29|\n",
      "|          Physicians|    28|\n",
      "| Wounds and Injuries|    27|\n",
      "|               Blood|    27|\n",
      "| Models, Theoretical|    27|\n",
      "|       Communication|    26|\n",
      "|Emigration and Im...|    25|\n",
      "+--------------------+------+\n",
      "only showing top 20 rows\n",
      "\n"
     ]
    }
   ],
   "source": [
    "namesAndDegrees.sort(desc(\"degree\")).show()"
   ]
  },
  {
   "cell_type": "markdown",
   "metadata": {},
   "source": [
    "## Filtering Out Noisy Edges"
   ]
  },
  {
   "cell_type": "code",
   "execution_count": 75,
   "metadata": {},
   "outputs": [
    {
     "data": {
      "text/plain": [
       "chiSq: (YY: Long, YB: Long, YA: Long, T: Long)Double\n"
      ]
     },
     "metadata": {},
     "output_type": "display_data"
    }
   ],
   "source": [
    "def chiSq(YY: Long, YB: Long, YA: Long, T: Long): Double = {\n",
    "    val NB = T - YB\n",
    "    val NA = T - YA\n",
    "    val YN = YA - YY\n",
    "    val NY = YB - YY\n",
    "    val NN = T - NY - YN - YY\n",
    "    val inner = math.abs(YY * NN - YN * NY) - T / 2.0\n",
    "    T * math.pow(inner, 2) / (YA * NA * YB * NB)\n",
    "}"
   ]
  },
  {
   "cell_type": "code",
   "execution_count": 76,
   "metadata": {},
   "outputs": [
    {
     "data": {
      "text/plain": [
       "T = 2376\n",
       "topicDistRdd = MapPartitionsRDD[579] at rdd at <console>:78\n",
       "topicDistGraph = org.apache.spark.graphx.impl.GraphImpl@37fb48ee\n",
       "chiSquaredGraph = org.apache.spark.graphx.impl.GraphImpl@403831ae\n"
      ]
     },
     "metadata": {},
     "output_type": "display_data"
    },
    {
     "data": {
      "text/plain": [
       "(count: 3536, mean: 265.646876, stdev: 216.392021, max: 1790.919255, min: 4.039522)"
      ]
     },
     "execution_count": 76,
     "metadata": {},
     "output_type": "execute_result"
    }
   ],
   "source": [
    "val T = medline.count()\n",
    "val topicDistRdd = topicDist.map { case Row(topic: String, cnt: Long) => (hashId(topic), cnt) }.rdd\n",
    "val topicDistGraph = Graph(topicDistRdd, topicGraph.edges)\n",
    "val chiSquaredGraph = topicDistGraph.mapTriplets(triplet =>\n",
    "    chiSq(triplet.attr, triplet.srcAttr, triplet.dstAttr, T)\n",
    ")\n",
    "chiSquaredGraph.edges.map(x => x.attr).stats()"
   ]
  },
  {
   "cell_type": "code",
   "execution_count": 77,
   "metadata": {},
   "outputs": [
    {
     "data": {
      "text/plain": [
       "interesting = org.apache.spark.graphx.impl.GraphImpl@6c38fd4c\n"
      ]
     },
     "metadata": {},
     "output_type": "display_data"
    },
    {
     "data": {
      "text/plain": [
       "org.apache.spark.graphx.impl.GraphImpl@6c38fd4c"
      ]
     },
     "execution_count": 77,
     "metadata": {},
     "output_type": "execute_result"
    }
   ],
   "source": [
    "val interesting = chiSquaredGraph.subgraph(triplet => triplet.attr > 19.5)"
   ]
  },
  {
   "cell_type": "code",
   "execution_count": 78,
   "metadata": {},
   "outputs": [
    {
     "data": {
      "text/plain": [
       "3419"
      ]
     },
     "execution_count": 78,
     "metadata": {},
     "output_type": "execute_result"
    }
   ],
   "source": [
    "interesting.edges.count"
   ]
  },
  {
   "cell_type": "markdown",
   "metadata": {},
   "source": [
    "## Analyzing the Filtered Graph"
   ]
  },
  {
   "cell_type": "code",
   "execution_count": 79,
   "metadata": {},
   "outputs": [
    {
     "name": "stdout",
     "output_type": "stream",
     "text": [
      "+--------------------+-----+\n",
      "|                 cid|count|\n",
      "+--------------------+-----+\n",
      "|-9215470674759766104|  967|\n",
      "|-7715393728639818274|   12|\n",
      "|-7766162447367385796|   10|\n",
      "|-6380589216187441282|   10|\n",
      "|-8060929734674540133|    9|\n",
      "|-7837548223451515988|    8|\n",
      "|-8413990221343043350|    8|\n",
      "|-3843194863954452561|    7|\n",
      "|-6781964506890345472|    7|\n",
      "|-5203417666596895117|    7|\n",
      "|-5907308932485011342|    7|\n",
      "|-9031507740888942675|    6|\n",
      "|-4011363123023043990|    6|\n",
      "|-3680134813602427771|    6|\n",
      "|-7919268455626835567|    6|\n",
      "|-6827738450567291831|    6|\n",
      "|-6195495891807228194|    6|\n",
      "|-9181449310634160080|    5|\n",
      "|-8632193869969830941|    5|\n",
      "|-8924989764442168089|    5|\n",
      "+--------------------+-----+\n",
      "only showing top 20 rows\n",
      "\n"
     ]
    },
    {
     "data": {
      "text/plain": [
       "interestingComponentGraph = org.apache.spark.graphx.impl.GraphImpl@549d1940\n",
       "icDF = [vid: bigint, cid: bigint]\n",
       "icCountDF = [cid: bigint, count: bigint]\n"
      ]
     },
     "metadata": {},
     "output_type": "display_data"
    },
    {
     "data": {
      "text/plain": [
       "[cid: bigint, count: bigint]"
      ]
     },
     "execution_count": 79,
     "metadata": {},
     "output_type": "execute_result"
    }
   ],
   "source": [
    "val interestingComponentGraph = interesting.connectedComponents()\n",
    "val icDF = interestingComponentGraph.vertices.toDF(\"vid\", \"cid\")\n",
    "val icCountDF = icDF.groupBy(\"cid\").count()\n",
    "icCountDF.count()\n",
    "icCountDF.orderBy(desc(\"count\")).show()"
   ]
  },
  {
   "cell_type": "code",
   "execution_count": 80,
   "metadata": {},
   "outputs": [
    {
     "name": "stdout",
     "output_type": "stream",
     "text": [
      "+--------------------+--------------------+\n",
      "|               topic|              degree|\n",
      "+--------------------+--------------------+\n",
      "|-1087266232809183895|[p-Methoxy-N-meth...|\n",
      "| 6603518327358446980|[gamma-Globulins, 4]|\n",
      "| 8580170059617337124|[beta-Thalassemia...|\n",
      "| 8614349794773596331|  [Zingiberaceae, 1]|\n",
      "| 3082545485912749937|       [Zea mays, 6]|\n",
      "|-3676948314256878067|[Wounds, Nonpenet...|\n",
      "|-6855486773038346001|[Wounds and Injur...|\n",
      "|-3517691285840111112|  [Wound Healing, 5]|\n",
      "|-5624674739178296995|[World Health Org...|\n",
      "| 1929404773684187663|           [Work, 4]|\n",
      "| 3395907313796951971|[Women, Working, 13]|\n",
      "|-8429595694780809751|[Women's Rights, 12]|\n",
      "| 5994786774935028247| [Women's Health, 6]|\n",
      "|-3904843440664529999|          [Women, 8]|\n",
      "| 6062097931118342599|[Withholding Trea...|\n",
      "| 8535524441063792297|    [Wheelchairs, 1]|\n",
      "| 4073205060170489512| [Weightlessness, 2]|\n",
      "|-8609663971641751753|       [Weaning, 11]|\n",
      "| 3473622954274011948|[Water-Electrolyt...|\n",
      "| 1896331054814819218|[Water Purificati...|\n",
      "+--------------------+--------------------+\n",
      "only showing top 20 rows\n",
      "\n"
     ]
    },
    {
     "data": {
      "text/plain": [
       "interestingDegrees = VertexRDDImpl[832] at RDD at VertexRDD.scala:57\n"
      ]
     },
     "metadata": {},
     "output_type": "display_data"
    },
    {
     "data": {
      "text/plain": [
       "VertexRDDImpl[832] at RDD at VertexRDD.scala:57"
      ]
     },
     "execution_count": 80,
     "metadata": {},
     "output_type": "execute_result"
    }
   ],
   "source": [
    "val interestingDegrees = interesting.degrees.cache()\n",
    "interestingDegrees.map(_._2).stats()\n",
    "interestingDegrees.innerJoin(topicGraph.vertices) {\n",
    "    (topicId, degree, name) => (name, degree)\n",
    "}.toDF(\"topic\", \"degree\").orderBy(desc(\"degree\")).show()"
   ]
  },
  {
   "cell_type": "markdown",
   "metadata": {},
   "source": [
    "## Cliques and Clustering Coefficients"
   ]
  },
  {
   "cell_type": "code",
   "execution_count": 81,
   "metadata": {},
   "outputs": [
    {
     "data": {
      "text/plain": [
       "avgClusteringCoef: (graph: org.apache.spark.graphx.Graph[_, _])Double\n"
      ]
     },
     "metadata": {},
     "output_type": "display_data"
    }
   ],
   "source": [
    "def avgClusteringCoef(graph: Graph[_, _]): Double = {\n",
    "    val triCountGraph = graph.triangleCount()\n",
    "    val maxTrisGraph = graph.degrees.mapValues(d => d * (d - 1) / 2.0)\n",
    "    val clusterCoefGraph = triCountGraph.vertices.innerJoin(maxTrisGraph) {\n",
    "      (vertexId, triCount, maxTris) => if (maxTris == 0) 0 else triCount / maxTris\n",
    "    }\n",
    "    clusterCoefGraph.map(_._2).sum() / graph.vertices.count()\n",
    "}"
   ]
  },
  {
   "cell_type": "code",
   "execution_count": 82,
   "metadata": {},
   "outputs": [
    {
     "data": {
      "text/plain": [
       "avgCC = 0.5216933686879061\n"
      ]
     },
     "metadata": {},
     "output_type": "display_data"
    },
    {
     "data": {
      "text/plain": [
       "0.5216933686879061"
      ]
     },
     "execution_count": 82,
     "metadata": {},
     "output_type": "execute_result"
    }
   ],
   "source": [
    "val avgCC = avgClusteringCoef(interesting)"
   ]
  },
  {
   "cell_type": "markdown",
   "metadata": {},
   "source": [
    "## Computing Average Path Length with Pregel"
   ]
  },
  {
   "cell_type": "code",
   "execution_count": 84,
   "metadata": {},
   "outputs": [
    {
     "data": {
      "text/plain": [
       "mergeMaps: (m1: Map[org.apache.spark.graphx.VertexId,Int], m2: Map[org.apache.spark.graphx.VertexId,Int])Map[org.apache.spark.graphx.VertexId,Int]\n"
      ]
     },
     "metadata": {},
     "output_type": "display_data"
    }
   ],
   "source": [
    "def mergeMaps(m1: Map[VertexId, Int], m2: Map[VertexId, Int]): Map[VertexId, Int] = {\n",
    "    def minThatExists(k: VertexId): Int = {\n",
    "      math.min(\n",
    "        m1.getOrElse(k, Int.MaxValue),\n",
    "        m2.getOrElse(k, Int.MaxValue))\n",
    "    }\n",
    "\n",
    "    (m1.keySet ++ m2.keySet).map(k => (k, minThatExists(k))).toMap\n",
    "  }"
   ]
  },
  {
   "cell_type": "code",
   "execution_count": 85,
   "metadata": {},
   "outputs": [
    {
     "data": {
      "text/plain": [
       "update: (id: org.apache.spark.graphx.VertexId, state: Map[org.apache.spark.graphx.VertexId,Int], msg: Map[org.apache.spark.graphx.VertexId,Int])Map[org.apache.spark.graphx.VertexId,Int]\n"
      ]
     },
     "metadata": {},
     "output_type": "display_data"
    }
   ],
   "source": [
    "  def update(id: VertexId, state: Map[VertexId, Int], msg: Map[VertexId, Int])\n",
    "    : Map[VertexId, Int] = {\n",
    "    mergeMaps(state, msg)\n",
    "  }"
   ]
  },
  {
   "cell_type": "code",
   "execution_count": 86,
   "metadata": {},
   "outputs": [
    {
     "data": {
      "text/plain": [
       "checkIncrement: (a: Map[org.apache.spark.graphx.VertexId,Int], b: Map[org.apache.spark.graphx.VertexId,Int], bid: org.apache.spark.graphx.VertexId)Iterator[(org.apache.spark.graphx.VertexId, Map[org.apache.spark.graphx.VertexId,Int])]\n"
      ]
     },
     "metadata": {},
     "output_type": "display_data"
    }
   ],
   "source": [
    "  def checkIncrement(a: Map[VertexId, Int], b: Map[VertexId, Int], bid: VertexId)\n",
    "    : Iterator[(VertexId, Map[VertexId, Int])] = {\n",
    "    val aplus = a.map { case (v, d) => v -> (d + 1) }\n",
    "    if (b != mergeMaps(aplus, b)) {\n",
    "      Iterator((bid, aplus))\n",
    "    } else {\n",
    "      Iterator.empty\n",
    "    }\n",
    "  }"
   ]
  },
  {
   "cell_type": "code",
   "execution_count": 87,
   "metadata": {},
   "outputs": [
    {
     "data": {
      "text/plain": [
       "iterate: (e: org.apache.spark.graphx.EdgeTriplet[Map[org.apache.spark.graphx.VertexId,Int], _])Iterator[(org.apache.spark.graphx.VertexId, Map[org.apache.spark.graphx.VertexId,Int])]\n"
      ]
     },
     "metadata": {},
     "output_type": "display_data"
    }
   ],
   "source": [
    "  def iterate(e: EdgeTriplet[Map[VertexId, Int], _]): Iterator[(VertexId, Map[VertexId, Int])] = {\n",
    "    checkIncrement(e.srcAttr, e.dstAttr, e.dstId) ++\n",
    "    checkIncrement(e.dstAttr, e.srcAttr, e.srcId)\n",
    "  }"
   ]
  },
  {
   "cell_type": "code",
   "execution_count": 88,
   "metadata": {},
   "outputs": [
    {
     "data": {
      "text/plain": [
       "samplePathLengths: [V, E](graph: org.apache.spark.graphx.Graph[V,E], fraction: Double)org.apache.spark.rdd.RDD[(org.apache.spark.graphx.VertexId, org.apache.spark.graphx.VertexId, Int)]\n"
      ]
     },
     "metadata": {},
     "output_type": "display_data"
    }
   ],
   "source": [
    "def samplePathLengths[V, E](graph: Graph[V, E], fraction: Double = 0.02)\n",
    "    : RDD[(VertexId, VertexId, Int)] = {\n",
    "    val replacement = false\n",
    "    val sample = graph.vertices.map(v => v._1).sample(\n",
    "      replacement, fraction, 1729L)\n",
    "    val ids = sample.collect().toSet\n",
    "\n",
    "    val mapGraph = graph.mapVertices((id, v) => {\n",
    "      if (ids.contains(id)) {\n",
    "        Map(id -> 0)\n",
    "      } else {\n",
    "        Map[VertexId, Int]()\n",
    "      }\n",
    "    })\n",
    "\n",
    "    val start = Map[VertexId, Int]()\n",
    "    val res = mapGraph.ops.pregel(start)(update, iterate, mergeMaps)\n",
    "    res.vertices.flatMap { case (id, m) =>\n",
    "      m.map { case (k, v) =>\n",
    "        if (id < k) {\n",
    "          (id, k, v)\n",
    "        } else {\n",
    "          (k, id, v)\n",
    "        }\n",
    "      }\n",
    "    }.distinct().cache()\n",
    "  }"
   ]
  },
  {
   "cell_type": "code",
   "execution_count": 89,
   "metadata": {},
   "outputs": [
    {
     "data": {
      "text/plain": [
       "paths = MapPartitionsRDD[1161] at distinct at <console>:76\n"
      ]
     },
     "metadata": {},
     "output_type": "display_data"
    },
    {
     "data": {
      "text/plain": [
       "(count: 14416, mean: 6.092952, stdev: 1.972259, max: 14.000000, min: 1.000000)"
      ]
     },
     "execution_count": 89,
     "metadata": {},
     "output_type": "execute_result"
    }
   ],
   "source": [
    "val paths = samplePathLengths(interesting)\n",
    "paths.map(_._3).filter(_ > 0).stats()"
   ]
  },
  {
   "cell_type": "code",
   "execution_count": 90,
   "metadata": {},
   "outputs": [
    {
     "name": "stdout",
     "output_type": "stream",
     "text": [
      "(0,30)\n",
      "(1,90)\n",
      "(2,353)\n",
      "(3,894)\n",
      "(4,1669)\n",
      "(5,2509)\n",
      "(6,3040)\n",
      "(7,2496)\n",
      "(8,1776)\n",
      "(9,970)\n",
      "(10,394)\n",
      "(11,162)\n",
      "(12,55)\n",
      "(13,7)\n",
      "(14,1)\n"
     ]
    },
    {
     "data": {
      "text/plain": [
       "hist = Map(0 -> 30, 5 -> 2509, 10 -> 394, 14 -> 1, 1 -> 90, 6 -> 3040, 9 -> 970, 13 -> 7, 2 -> 353, 12 -> 55, 7 -> 2496, 3 -> 894, 11 -> 162, 8 -> 1776, 4 -> 1669)\n"
      ]
     },
     "metadata": {},
     "output_type": "display_data"
    },
    {
     "data": {
      "text/plain": [
       "Map(0 -> 30, 5 -> 2509, 10 -> 394, 14 -> 1, 1 -> 90, 6 -> 3040, 9 -> 970, 13 -> 7, 2 -> 353, 12 -> 55, 7 -> 2496, 3 -> 894, 11 -> 162, 8 -> 1776, 4 -> 1669)"
      ]
     },
     "execution_count": 90,
     "metadata": {},
     "output_type": "execute_result"
    }
   ],
   "source": [
    "val hist = paths.map(_._3).countByValue()\n",
    "hist.toSeq.sorted.foreach(println)"
   ]
  },
  {
   "cell_type": "code",
   "execution_count": null,
   "metadata": {},
   "outputs": [],
   "source": []
  }
 ],
 "metadata": {
  "kernelspec": {
   "display_name": "Apache Toree - Scala",
   "language": "scala",
   "name": "apache_toree_scala"
  },
  "language_info": {
   "codemirror_mode": "text/x-scala",
   "file_extension": ".scala",
   "mimetype": "text/x-scala",
   "name": "scala",
   "pygments_lexer": "scala",
   "version": "2.11.8"
  }
 },
 "nbformat": 4,
 "nbformat_minor": 2
}
