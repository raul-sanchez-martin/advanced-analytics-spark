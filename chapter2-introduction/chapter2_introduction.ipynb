{
 "cells": [
  {
   "cell_type": "markdown",
   "metadata": {},
   "source": [
    "# Chapter 2: Introduction to Data Analysis with Scala Spark\n",
    "\n",
    "In this notebook, we include the exploratory analysis step corresponding to the Chapter 2 of \"Advanced Anallytics with Spark\"."
   ]
  },
  {
   "cell_type": "code",
   "execution_count": 83,
   "metadata": {},
   "outputs": [
    {
     "data": {
      "text/plain": [
       "sparkBis = org.apache.spark.sql.SparkSession@2ac81c07\n"
      ]
     },
     "metadata": {},
     "output_type": "display_data"
    },
    {
     "data": {
      "text/html": [
       "<ul>\n",
       "<li><a href=\"Some(http://c23bf75b941f:4040)\" target=\"new_tab\">Spark UI: local-1535914293089</a></li>\n",
       "</ul>"
      ],
      "text/plain": [
       "Spark local-1535914293089: Some(http://c23bf75b941f:4040)"
      ]
     },
     "execution_count": 83,
     "metadata": {},
     "output_type": "execute_result"
    }
   ],
   "source": [
    "import org.apache.spark.sql.functions.{col, first}\n",
    "val sparkBis = spark\n",
    "import sparkBis.implicits._\n",
    "import org.apache.spark.sql.DataFrame"
   ]
  },
  {
   "cell_type": "markdown",
   "metadata": {},
   "source": [
    "## Data Loading\n",
    "\n",
    "The first step is to load the data. We will do it in two steps, as we have to configure some options like the header, possible null values, etc. In addition, we will only load a sample of the data, leaving the processing of the whole data for other steps of the data pipeline process (deployment in production)."
   ]
  },
  {
   "cell_type": "code",
   "execution_count": 1,
   "metadata": {},
   "outputs": [
    {
     "data": {
      "text/plain": [
       "data_path = ../data/linkage/\n"
      ]
     },
     "metadata": {},
     "output_type": "display_data"
    },
    {
     "data": {
      "text/plain": [
       "../data/linkage/"
      ]
     },
     "execution_count": 1,
     "metadata": {},
     "output_type": "execute_result"
    }
   ],
   "source": [
    "val data_path = \"../data/linkage/\""
   ]
  },
  {
   "cell_type": "code",
   "execution_count": 2,
   "metadata": {},
   "outputs": [
    {
     "data": {
      "text/plain": [
       "preview = [_c0: string, _c1: string ... 10 more fields]\n"
      ]
     },
     "metadata": {},
     "output_type": "display_data"
    },
    {
     "data": {
      "text/plain": [
       "[_c0: string, _c1: string ... 10 more fields]"
      ]
     },
     "execution_count": 2,
     "metadata": {},
     "output_type": "execute_result"
    }
   ],
   "source": [
    "val preview = spark.read.csv(data_path).sample(fraction = 0.001, seed = 42)"
   ]
  },
  {
   "cell_type": "code",
   "execution_count": 3,
   "metadata": {},
   "outputs": [
    {
     "name": "stdout",
     "output_type": "stream",
     "text": [
      "+-----+-----+------------+------------+------------+------------+-------+------+------+------+-------+--------+\n",
      "|  _c0|  _c1|         _c2|         _c3|         _c4|         _c5|    _c6|   _c7|   _c8|   _c9|   _c10|    _c11|\n",
      "+-----+-----+------------+------------+------------+------------+-------+------+------+------+-------+--------+\n",
      "| id_1| id_2|cmp_fname_c1|cmp_fname_c2|cmp_lname_c1|cmp_lname_c2|cmp_sex|cmp_bd|cmp_bm|cmp_by|cmp_plz|is_match|\n",
      "| 3148| 8326|           1|           ?|           1|           ?|      1|     1|     1|     1|      1|    TRUE|\n",
      "|14055|94934|           1|           ?|           1|           ?|      1|     1|     1|     1|      1|    TRUE|\n",
      "|33948|34740|           1|           ?|           1|           ?|      1|     1|     1|     1|      1|    TRUE|\n",
      "|  946|71870|           1|           ?|           1|           ?|      1|     1|     1|     1|      1|    TRUE|\n",
      "|64880|71676|           1|           ?|           1|           ?|      1|     1|     1|     1|      1|    TRUE|\n",
      "|25739|45991|           1|           ?|           1|           ?|      1|     1|     1|     1|      1|    TRUE|\n",
      "|62415|93584|           1|           ?|           1|           ?|      1|     1|     1|     1|      0|    TRUE|\n",
      "|27995|31399|           1|           ?|           1|           ?|      1|     1|     1|     1|      1|    TRUE|\n",
      "| 4909|12238|           1|           ?|           1|           ?|      1|     1|     1|     1|      1|    TRUE|\n",
      "|15161|16743|           1|           ?|           1|           ?|      1|     1|     1|     1|      1|    TRUE|\n",
      "|31703|37310|           1|           ?|           1|           ?|      1|     1|     1|     1|      1|    TRUE|\n",
      "|30213|36558|           1|           ?|           1|           ?|      1|     1|     1|     1|      1|    TRUE|\n",
      "|56596|56630|           1|           ?|           1|           ?|      1|     1|     1|     1|      1|    TRUE|\n",
      "|16481|21174|           1|           ?|           1|           ?|      1|     1|     1|     1|      1|    TRUE|\n",
      "|32649|37094|           1|           ?|           1|           ?|      1|     1|     1|     1|      1|    TRUE|\n",
      "|34268|37260|           1|           ?|           1|           ?|      1|     1|     1|     1|      1|    TRUE|\n",
      "|66117|69253|           1|           ?|           1|           ?|      1|     1|     1|     1|      0|    TRUE|\n",
      "| 2771|31982|           1|           ?|           1|           ?|      0|     1|     1|     1|      1|    TRUE|\n",
      "|23557|29673|           1|           ?|           1|           ?|      1|     1|     1|     1|      1|    TRUE|\n",
      "+-----+-----+------------+------------+------------+------------+-------+------+------+------+-------+--------+\n",
      "only showing top 20 rows\n",
      "\n"
     ]
    }
   ],
   "source": [
    "preview.show()"
   ]
  },
  {
   "cell_type": "markdown",
   "metadata": {},
   "source": [
    "Options:\n",
    "* option: header = true\n",
    "* option: nullValue = \"?\"\n",
    "* option: inferSchema = \"true\""
   ]
  },
  {
   "cell_type": "code",
   "execution_count": 13,
   "metadata": {},
   "outputs": [
    {
     "data": {
      "text/plain": [
       "data = [id_1: int, id_2: int ... 10 more fields]\n"
      ]
     },
     "metadata": {},
     "output_type": "display_data"
    },
    {
     "data": {
      "text/plain": [
       "[id_1: int, id_2: int ... 10 more fields]"
      ]
     },
     "execution_count": 13,
     "metadata": {},
     "output_type": "execute_result"
    }
   ],
   "source": [
    "val data = spark.read.option(\"header\", \"true\")\n",
    "    .option(\"nullValue\", \"?\")\n",
    "    .option(\"inferSchema\", \"true\").csv(data_path).sample(fraction = 0.001, seed = 42)"
   ]
  },
  {
   "cell_type": "code",
   "execution_count": 14,
   "metadata": {},
   "outputs": [
    {
     "data": {
      "text/plain": [
       "5819"
      ]
     },
     "execution_count": 14,
     "metadata": {},
     "output_type": "execute_result"
    }
   ],
   "source": [
    "data.cache()\n",
    "data.count()"
   ]
  },
  {
   "cell_type": "code",
   "execution_count": 15,
   "metadata": {},
   "outputs": [
    {
     "name": "stdout",
     "output_type": "stream",
     "text": [
      "+-----+-----+-----------------+------------+-----------------+------------+-------+------+------+------+-------+--------+\n",
      "| id_1| id_2|     cmp_fname_c1|cmp_fname_c2|     cmp_lname_c1|cmp_lname_c2|cmp_sex|cmp_bd|cmp_bm|cmp_by|cmp_plz|is_match|\n",
      "+-----+-----+-----------------+------------+-----------------+------------+-------+------+------+------+-------+--------+\n",
      "|35218|38094|              1.0|        null|              1.0|        null|      1|     1|     1|     1|      1|    true|\n",
      "|38563|88351|              1.0|        null|              0.0|        null|      1|     1|     0|     0|      0|   false|\n",
      "|56678|66201|              1.0|        null|              0.0|        null|      1|     0|     0|     1|      0|   false|\n",
      "|64906|93890|              1.0|        null|             0.25|        null|      1|     1|     0|     0|      0|   false|\n",
      "| 4870|34116|              1.0|        null|              0.0|        null|      1|     0|     1|     0|      0|   false|\n",
      "|45483|69150|0.166666666666667|        null|              0.5|        null|      1|     0|     0|     0|      0|   false|\n",
      "|51599|92735|0.166666666666667|        null|              1.0|        null|      1|     0|     0|     0|      0|   false|\n",
      "|26124|64740|              0.0|        null|              1.0|        null|      1|     0|     0|     0|      0|   false|\n",
      "|42446|98911|            0.125|        null|0.857142857142857|        null|      1|     0|     0|     0|      0|   false|\n",
      "|28219|73983|              0.5|        null|0.222222222222222|        null|      1|     0|     1|     0|      0|   false|\n",
      "|69881|75104|              1.0|        null|            0.125|        null|      1|     0|     1|     0|      0|   false|\n",
      "|38384|78962|              1.0|        null|0.111111111111111|        null|      1|     1|     0|     0|      0|   false|\n",
      "|10524|83194|0.111111111111111|        null|              1.0|        null|      1|     0|     0|     0|      0|   false|\n",
      "|21497|79506|              0.0|        null|0.857142857142857|        null|      1|     0|     0|     0|      0|   false|\n",
      "|31827|59507|              0.4|        null|              0.1|        null|      1|     0|     1|     0|      0|   false|\n",
      "| 3915|16803|              1.0|        null|              0.0|        null|      1|     0|     1|     0|      0|   false|\n",
      "|17187|22389|              1.0|        null|            0.375|        null|      1|     0|     1|     0|      0|   false|\n",
      "|93845|99751|              1.0|        null|0.111111111111111|        null|      1|     0|     1|     0|      0|   false|\n",
      "| 4069|78956|              0.0|        null|              0.6|        null|      1|     0|     0|     0|      0|   false|\n",
      "|29310|73690|              0.0|        null|0.285714285714286|        null|      1|     0|     1|     0|      0|   false|\n",
      "+-----+-----+-----------------+------------+-----------------+------------+-------+------+------+------+-------+--------+\n",
      "only showing top 20 rows\n",
      "\n"
     ]
    }
   ],
   "source": [
    "data.show()"
   ]
  },
  {
   "cell_type": "code",
   "execution_count": 16,
   "metadata": {},
   "outputs": [
    {
     "name": "stdout",
     "output_type": "stream",
     "text": [
      "root\n",
      " |-- id_1: integer (nullable = true)\n",
      " |-- id_2: integer (nullable = true)\n",
      " |-- cmp_fname_c1: double (nullable = true)\n",
      " |-- cmp_fname_c2: double (nullable = true)\n",
      " |-- cmp_lname_c1: double (nullable = true)\n",
      " |-- cmp_lname_c2: double (nullable = true)\n",
      " |-- cmp_sex: integer (nullable = true)\n",
      " |-- cmp_bd: integer (nullable = true)\n",
      " |-- cmp_bm: integer (nullable = true)\n",
      " |-- cmp_by: integer (nullable = true)\n",
      " |-- cmp_plz: integer (nullable = true)\n",
      " |-- is_match: boolean (nullable = true)\n",
      "\n"
     ]
    }
   ],
   "source": [
    "data.printSchema()"
   ]
  },
  {
   "cell_type": "markdown",
   "metadata": {},
   "source": [
    "## Exploratory Analysis\n",
    "\n",
    "Let's now perform some preliminary analysis. We first check the distribution of our target variable, `is_match`."
   ]
  },
  {
   "cell_type": "code",
   "execution_count": 17,
   "metadata": {},
   "outputs": [
    {
     "name": "stdout",
     "output_type": "stream",
     "text": [
      "+--------+-----+\n",
      "|is_match|count|\n",
      "+--------+-----+\n",
      "|   false| 5796|\n",
      "|    true|   23|\n",
      "+--------+-----+\n",
      "\n"
     ]
    }
   ],
   "source": [
    "data.groupBy(\"is_match\").count().orderBy(col(\"count\").desc).show()"
   ]
  },
  {
   "cell_type": "markdown",
   "metadata": {},
   "source": [
    "We can also now check the summary of the data, grouping the results as a function of the possible values of the `is_match` column."
   ]
  },
  {
   "cell_type": "code",
   "execution_count": 18,
   "metadata": {},
   "outputs": [
    {
     "name": "stdout",
     "output_type": "stream",
     "text": [
      "+-------+------------------+------------------+------------------+-----------------+------------------+-------------------+------------------+------------------+-------------------+-------------------+--------------------+\n",
      "|summary|              id_1|              id_2|      cmp_fname_c1|     cmp_fname_c2|      cmp_lname_c1|       cmp_lname_c2|           cmp_sex|            cmp_bd|             cmp_bm|             cmp_by|             cmp_plz|\n",
      "+-------+------------------+------------------+------------------+-----------------+------------------+-------------------+------------------+------------------+-------------------+-------------------+--------------------+\n",
      "|  count|              5819|              5819|              5816|               95|              5819|                  2|              5819|              5817|               5817|               5817|                5804|\n",
      "|   mean| 33414.59133871799|  66340.5959786905|0.7131791857462408|0.924093567251462|0.3197607897534861|  0.173611111111111|0.9556624849630521|0.2258896338318721|0.49458483754512633|0.21557503867973182|0.005685733976567884|\n",
      "| stddev|23908.291351105756|23909.037403642527|0.3890878881040213|0.238267300087884|0.3370710272257925|0.06874649261535862|0.2058615618827091|0.4182027894445413| 0.5000136556564859|0.41125602337636974| 0.07519561574354161|\n",
      "|    min|                25|               783|               0.0|              0.0|               0.0|              0.125|                 0|                 0|                  0|                  0|                   0|\n",
      "|    max|             98944|             99997|               1.0|              1.0|               1.0|  0.222222222222222|                 1|                 1|                  1|                  1|                   1|\n",
      "+-------+------------------+------------------+------------------+-----------------+------------------+-------------------+------------------+------------------+-------------------+-------------------+--------------------+\n",
      "\n"
     ]
    },
    {
     "data": {
      "text/plain": [
       "summary = [summary: string, id_1: string ... 10 more fields]\n"
      ]
     },
     "metadata": {},
     "output_type": "display_data"
    },
    {
     "data": {
      "text/plain": [
       "[summary: string, id_1: string ... 10 more fields]"
      ]
     },
     "execution_count": 18,
     "metadata": {},
     "output_type": "execute_result"
    }
   ],
   "source": [
    "val summary = data.describe()\n",
    "summary.show()"
   ]
  },
  {
   "cell_type": "code",
   "execution_count": 19,
   "metadata": {},
   "outputs": [
    {
     "name": "stdout",
     "output_type": "stream",
     "text": [
      "+-------+------------------+-----------------+\n",
      "|summary|      cmp_fname_c1|     cmp_fname_c2|\n",
      "+-------+------------------+-----------------+\n",
      "|  count|              5816|               95|\n",
      "|   mean|0.7131791857462408|0.924093567251462|\n",
      "| stddev|0.3890878881040213|0.238267300087884|\n",
      "|    min|               0.0|              0.0|\n",
      "|    max|               1.0|              1.0|\n",
      "+-------+------------------+-----------------+\n",
      "\n"
     ]
    }
   ],
   "source": [
    "summary.select(\"summary\", \"cmp_fname_c1\", \"cmp_fname_c2\").show()"
   ]
  },
  {
   "cell_type": "markdown",
   "metadata": {},
   "source": [
    "## Data Preparation\n",
    "\n",
    "In this section, we are going to calculate, per each group of `is_match`, the main statistics (count, mean, stdev, etc...) of all the variables, and we will display it in a wide format, where the rows correspond to each variable and the columns to each statistics.\n",
    "\n",
    "We use first the `describe()` functionality of Spark."
   ]
  },
  {
   "cell_type": "code",
   "execution_count": 22,
   "metadata": {},
   "outputs": [
    {
     "data": {
      "text/plain": [
       "matches = [id_1: int, id_2: int ... 10 more fields]\n",
       "misses = [id_1: int, id_2: int ... 10 more fields]\n",
       "matchSummary = [summary: string, id_1: string ... 10 more fields]\n",
       "missSummary = [summary: string, id_1: string ... 10 more fields]\n"
      ]
     },
     "metadata": {},
     "output_type": "display_data"
    },
    {
     "data": {
      "text/plain": [
       "[summary: string, id_1: string ... 10 more fields]"
      ]
     },
     "execution_count": 22,
     "metadata": {},
     "output_type": "execute_result"
    }
   ],
   "source": [
    "val matches = data.filter(col(\"is_match\") === true)\n",
    "val misses = data.filter(col(\"is_match\") === false)\n",
    "val matchSummary = matches.describe()\n",
    "val missSummary = misses.describe()"
   ]
  },
  {
   "cell_type": "code",
   "execution_count": 25,
   "metadata": {},
   "outputs": [
    {
     "name": "stdout",
     "output_type": "stream",
     "text": [
      "root\n",
      " |-- summary: string (nullable = true)\n",
      " |-- id_1: string (nullable = true)\n",
      " |-- id_2: string (nullable = true)\n",
      " |-- cmp_fname_c1: string (nullable = true)\n",
      " |-- cmp_fname_c2: string (nullable = true)\n",
      " |-- cmp_lname_c1: string (nullable = true)\n",
      " |-- cmp_lname_c2: string (nullable = true)\n",
      " |-- cmp_sex: string (nullable = true)\n",
      " |-- cmp_bd: string (nullable = true)\n",
      " |-- cmp_bm: string (nullable = true)\n",
      " |-- cmp_by: string (nullable = true)\n",
      " |-- cmp_plz: string (nullable = true)\n",
      "\n"
     ]
    }
   ],
   "source": [
    "matchSummary.printSchema()"
   ]
  },
  {
   "cell_type": "markdown",
   "metadata": {},
   "source": [
    "Now we transform the previous match data into long format."
   ]
  },
  {
   "cell_type": "code",
   "execution_count": 73,
   "metadata": {},
   "outputs": [
    {
     "data": {
      "text/plain": [
       "matchSchema = StructType(StructField(summary,StringType,true), StructField(id_1,StringType,true), StructField(id_2,StringType,true), StructField(cmp_fname_c1,StringType,true), StructField(cmp_fname_c2,StringType,true), StructField(cmp_lname_c1,StringType,true), StructField(cmp_lname_c2,StringType,true), StructField(cmp_sex,StringType,true), StructField(cmp_bd,StringType,true), StructField(cmp_bm,StringType,true), StructField(cmp_by,StringType,true), StructField(cmp_plz,StringType,true))\n",
       "longDFMatch = [metric: string, field: string ... 1 more field]\n"
      ]
     },
     "metadata": {},
     "output_type": "display_data"
    },
    {
     "data": {
      "text/plain": [
       "[metric: string, field: string ... 1 more field]"
      ]
     },
     "execution_count": 73,
     "metadata": {},
     "output_type": "execute_result"
    }
   ],
   "source": [
    "val matchSchema = matchSummary.schema\n",
    "val longDFMatch = matchSummary.rdd.flatMap(row => {\n",
    "    val metricName = row.getString(0)\n",
    "    (1 until row.size).map(i => (metricName, schema(i).name, {row.getString(i) match {\n",
    "        case value: String => value\n",
    "        case null => null\n",
    "    }}))\n",
    "}).toDF(\"metric\", \"field\", \"value\")"
   ]
  },
  {
   "cell_type": "code",
   "execution_count": 72,
   "metadata": {},
   "outputs": [
    {
     "name": "stdout",
     "output_type": "stream",
     "text": [
      "+------+------------+------------------+\n",
      "|metric|       field|             value|\n",
      "+------+------------+------------------+\n",
      "| count|        id_1|                23|\n",
      "| count|        id_2|                23|\n",
      "| count|cmp_fname_c1|                23|\n",
      "| count|cmp_fname_c2|                 2|\n",
      "| count|cmp_lname_c1|                23|\n",
      "| count|cmp_lname_c2|                 0|\n",
      "| count|     cmp_sex|                23|\n",
      "| count|      cmp_bd|                23|\n",
      "| count|      cmp_bm|                23|\n",
      "| count|      cmp_by|                23|\n",
      "| count|     cmp_plz|                23|\n",
      "|  mean|        id_1|           37772.0|\n",
      "|  mean|        id_2|50867.434782608696|\n",
      "|  mean|cmp_fname_c1|               1.0|\n",
      "|  mean|cmp_fname_c2|               1.0|\n",
      "|  mean|cmp_lname_c1|               1.0|\n",
      "|  mean|cmp_lname_c2|              null|\n",
      "|  mean|     cmp_sex|0.9565217391304348|\n",
      "|  mean|      cmp_bd|0.9565217391304348|\n",
      "|  mean|      cmp_bm|               1.0|\n",
      "+------+------------+------------------+\n",
      "only showing top 20 rows\n",
      "\n"
     ]
    }
   ],
   "source": [
    "longDFMatch.show()"
   ]
  },
  {
   "cell_type": "markdown",
   "metadata": {},
   "source": [
    "And now we pivot it so the data is arranged in the desired format."
   ]
  },
  {
   "cell_type": "code",
   "execution_count": 81,
   "metadata": {},
   "outputs": [
    {
     "data": {
      "text/plain": [
       "wideDFMatch = [field: string, count: string ... 4 more fields]\n"
      ]
     },
     "metadata": {},
     "output_type": "display_data"
    },
    {
     "data": {
      "text/plain": [
       "[field: string, count: string ... 4 more fields]"
      ]
     },
     "execution_count": 81,
     "metadata": {},
     "output_type": "execute_result"
    }
   ],
   "source": [
    "val wideDFMatch = longDFMatch.groupBy(\"field\")\n",
    "    .pivot(\"metric\", Seq(\"count\", \"mean\", \"stddev\", \"max\", \"min\"))\n",
    "    .agg(first(\"value\"))"
   ]
  },
  {
   "cell_type": "code",
   "execution_count": 82,
   "metadata": {},
   "outputs": [
    {
     "name": "stdout",
     "output_type": "stream",
     "text": [
      "+------------+-----+------------------+-------------------+-----+----+\n",
      "|       field|count|              mean|             stddev|  max| min|\n",
      "+------------+-----+------------------+-------------------+-----+----+\n",
      "|        id_2|   23|50867.434782608696| 21539.826208098773|88420|3662|\n",
      "|     cmp_plz|   23|               1.0|                0.0|    1|   1|\n",
      "|cmp_lname_c1|   23|               1.0|                0.0|  1.0| 1.0|\n",
      "|cmp_lname_c2|    0|              null|               null| null|null|\n",
      "|     cmp_sex|   23|0.9565217391304348|0.20851441405707477|    1|   0|\n",
      "|      cmp_bm|   23|               1.0|                0.0|    1|   1|\n",
      "|cmp_fname_c2|    2|               1.0|                0.0|  1.0| 1.0|\n",
      "|cmp_fname_c1|   23|               1.0|                0.0|  1.0| 1.0|\n",
      "|        id_1|   23|           37772.0|  18529.77306194743|71241|3029|\n",
      "|      cmp_bd|   23|0.9565217391304348|0.20851441405707477|    1|   0|\n",
      "|      cmp_by|   23|0.9565217391304348|0.20851441405707477|    1|   0|\n",
      "+------------+-----+------------------+-------------------+-----+----+\n",
      "\n"
     ]
    }
   ],
   "source": [
    "wideDFMatch.show()"
   ]
  },
  {
   "cell_type": "markdown",
   "metadata": {},
   "source": [
    "Now, we have to do the same for the `miss` data. We are going to build a function that performs the previous transformations so we can reuse it in the future."
   ]
  },
  {
   "cell_type": "code",
   "execution_count": 86,
   "metadata": {},
   "outputs": [
    {
     "data": {
      "text/plain": [
       "lastException: Throwable = null\n",
       "getLongSummary: (summary: org.apache.spark.sql.DataFrame)org.apache.spark.sql.DataFrame\n",
       "getPivotSummary: (summary: org.apache.spark.sql.DataFrame)org.apache.spark.sql.DataFrame\n"
      ]
     },
     "metadata": {},
     "output_type": "display_data"
    }
   ],
   "source": [
    "def getLongSummary(summary: DataFrame): DataFrame = {\n",
    "    \n",
    "    val schema = summary.schema\n",
    "    val longDF = summary.rdd.flatMap(row => {\n",
    "        val metricName = row.getString(0)\n",
    "        (1 until row.size).map(i => (metricName, schema(i).name, {row.getString(i) match {\n",
    "            case value: String => value\n",
    "            case null => null\n",
    "        }}))\n",
    "    }).toDF(\"metric\", \"field\", \"value\")\n",
    "    \n",
    "    longDF\n",
    "    \n",
    "}\n",
    "\n",
    "\n",
    "def getPivotSummary(summary: DataFrame): DataFrame = {\n",
    "    \n",
    "    val longDF = getLongSummary(summary)\n",
    "    \n",
    "    val wideDF = longDF.groupBy(\"field\")\n",
    "    .pivot(\"metric\", Seq(\"count\", \"mean\", \"stddev\", \"max\", \"min\"))\n",
    "    .agg(first(\"value\"))\n",
    "    \n",
    "    wideDF\n",
    "    \n",
    "}"
   ]
  },
  {
   "cell_type": "code",
   "execution_count": 87,
   "metadata": {},
   "outputs": [
    {
     "data": {
      "text/plain": [
       "wideDFMatchBis = [field: string, count: string ... 4 more fields]\n"
      ]
     },
     "metadata": {},
     "output_type": "display_data"
    },
    {
     "data": {
      "text/plain": [
       "[field: string, count: string ... 4 more fields]"
      ]
     },
     "execution_count": 87,
     "metadata": {},
     "output_type": "execute_result"
    }
   ],
   "source": [
    "val wideDFMatchBis = getPivotSummary(matchSummary)"
   ]
  },
  {
   "cell_type": "code",
   "execution_count": 88,
   "metadata": {},
   "outputs": [
    {
     "name": "stdout",
     "output_type": "stream",
     "text": [
      "+------------+-----+------------------+-------------------+-----+----+\n",
      "|       field|count|              mean|             stddev|  max| min|\n",
      "+------------+-----+------------------+-------------------+-----+----+\n",
      "|        id_2|   23|50867.434782608696| 21539.826208098773|88420|3662|\n",
      "|     cmp_plz|   23|               1.0|                0.0|    1|   1|\n",
      "|cmp_lname_c1|   23|               1.0|                0.0|  1.0| 1.0|\n",
      "|cmp_lname_c2|    0|              null|               null| null|null|\n",
      "|     cmp_sex|   23|0.9565217391304348|0.20851441405707477|    1|   0|\n",
      "|      cmp_bm|   23|               1.0|                0.0|    1|   1|\n",
      "|cmp_fname_c2|    2|               1.0|                0.0|  1.0| 1.0|\n",
      "|cmp_fname_c1|   23|               1.0|                0.0|  1.0| 1.0|\n",
      "|        id_1|   23|           37772.0|  18529.77306194743|71241|3029|\n",
      "|      cmp_bd|   23|0.9565217391304348|0.20851441405707477|    1|   0|\n",
      "|      cmp_by|   23|0.9565217391304348|0.20851441405707477|    1|   0|\n",
      "+------------+-----+------------------+-------------------+-----+----+\n",
      "\n"
     ]
    }
   ],
   "source": [
    "wideDFMatchBis.show()"
   ]
  },
  {
   "cell_type": "code",
   "execution_count": 89,
   "metadata": {},
   "outputs": [
    {
     "data": {
      "text/plain": [
       "wideDFMiss = [field: string, count: string ... 4 more fields]\n"
      ]
     },
     "metadata": {},
     "output_type": "display_data"
    },
    {
     "data": {
      "text/plain": [
       "[field: string, count: string ... 4 more fields]"
      ]
     },
     "execution_count": 89,
     "metadata": {},
     "output_type": "execute_result"
    }
   ],
   "source": [
    "val wideDFMiss = getPivotSummary(missSummary)"
   ]
  },
  {
   "cell_type": "code",
   "execution_count": 90,
   "metadata": {},
   "outputs": [
    {
     "name": "stdout",
     "output_type": "stream",
     "text": [
      "+------------+-----+--------------------+-------------------+-----------------+-----+\n",
      "|       field|count|                mean|             stddev|              max|  min|\n",
      "+------------+-----+--------------------+-------------------+-----------------+-----+\n",
      "|        id_2| 5796|   66401.99741200828| 23899.696454240267|            99997|  783|\n",
      "|     cmp_plz| 5781|0.001729804532087...|0.04155852577779171|                1|    0|\n",
      "|cmp_lname_c1| 5796| 0.31706142780806346| 0.3349985064290111|              1.0|  0.0|\n",
      "|cmp_lname_c2|    2|   0.173611111111111|0.06874649261535862|0.222222222222222|0.125|\n",
      "|     cmp_sex| 5796|  0.9556590752242926| 0.2058691804780139|                1|    0|\n",
      "|      cmp_bm| 5794|  0.4925785295132896|0.49998806765825293|                1|    0|\n",
      "|cmp_fname_c2|   93|  0.9224611708482676| 0.2405774619790335|              1.0|  0.0|\n",
      "|cmp_fname_c1| 5793|  0.7120404184878538| 0.3894387956025427|              1.0|  0.0|\n",
      "|        id_1| 5796|   33397.30003450656| 23926.886833834946|            98944|   25|\n",
      "|      cmp_bd| 5794| 0.22298929927511218|  0.416287137766305|                1|    0|\n",
      "|      cmp_by| 5794|  0.2126337590610977| 0.4092059922297936|                1|    0|\n",
      "+------------+-----+--------------------+-------------------+-----------------+-----+\n",
      "\n"
     ]
    }
   ],
   "source": [
    "wideDFMiss.show()"
   ]
  },
  {
   "cell_type": "code",
   "execution_count": null,
   "metadata": {},
   "outputs": [],
   "source": []
  }
 ],
 "metadata": {
  "kernelspec": {
   "display_name": "Apache Toree - Scala",
   "language": "scala",
   "name": "apache_toree_scala"
  },
  "language_info": {
   "codemirror_mode": "text/x-scala",
   "file_extension": ".scala",
   "mimetype": "text/x-scala",
   "name": "scala",
   "pygments_lexer": "scala",
   "version": "2.11.8"
  }
 },
 "nbformat": 4,
 "nbformat_minor": 2
}
